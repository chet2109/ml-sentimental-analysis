{
 "cells": [
  {
   "cell_type": "code",
   "execution_count": 1,
   "metadata": {
    "collapsed": true
   },
   "outputs": [],
   "source": [
    "#Importing all the required libraries\n",
    "import pandas as pd\n",
    "import numpy  as np\n",
    "import matplotlib.pyplot as plt\n",
    "import re\n",
    "import operator\n",
    "from nltk.corpus import stopwords\n",
    "from sklearn.feature_extraction.text import CountVectorizer,TfidfVectorizer\n",
    "from nltk.stem import PorterStemmer, WordNetLemmatizer, SnowballStemmer"
   ]
  },
  {
   "cell_type": "code",
   "execution_count": 2,
   "metadata": {
    "collapsed": true
   },
   "outputs": [],
   "source": [
    "#Reading the data from excel Dataframes and concatinating all the sheets\n",
    "df1 = pd.read_excel(\"C:\\Machine Learning\\Sentimental Analysis\\comments.csv\", sheetname='test1')\n",
    "df2 = pd.read_excel(\"C:\\Machine Learning\\Sentimental Analysis\\comments.csv\", sheetname='test2')\n",
    "df3 = pd.read_excel(\"C:\\Machine Learning\\Sentimental Analysis\\comments.csv\", sheetname='test3')\n",
    "df4 = pd.read_excel(\"C:\\Machine Learning\\Sentimental Analysis\\comments.csv\", sheetname='test4')\n",
    "frames = [df1,df2,df3,df4]\n",
    "#Original data\n",
    "df = pd.concat(frames)\n",
    "df_new = df[['SOURCE','TONE','COMMENT']]\n"
   ]
  },
  {
   "cell_type": "code",
   "execution_count": 3,
   "metadata": {
    "collapsed": true
   },
   "outputs": [],
   "source": [
    "# Remove NAN and \n",
    "df_new.isnull().sum()\n",
    "nan_rows = df_new[df_new['TONE'].isnull()]\n",
    "nan_rows.tail(1)\n",
    "df_nan_removed = df_new.dropna()\n",
    "df_nan_removed.count()\n",
    "df_nan_removed.isnull().sum()\n",
    "#Remove Neutral Comments for first trail\n",
    "df_remove_neutral = df_nan_removed[df_nan_removed['TONE']== 'Neutral']\n",
    "df_clean = df_nan_removed.drop(df_remove_neutral.index,axis=0)\n",
    "df_clean.count()\n",
    "df_clean.groupby('TONE').count()\n",
    "# Replacing Positive and Negative with 1 and 0\n",
    "value_map = {'Positive': 1, 'Negative': 0}\n",
    "df_integers = df_clean.replace({'TONE': value_map})\n",
    "#Selecting REquired Coloumns TONE and Comment\n",
    "df_integers_a = df_integers[['TONE','COMMENT']]\n",
    "df_integers_a.head(1)\n",
    "# Replacing the values insisde brackets in the comemnts section, this needs to be applied on each element separetly\n",
    "#thus we will use apply method and a lambda function \n",
    "dfa = df_integers_a['COMMENT'].apply(lambda x: re.sub(r\"\\(.*\\) \", \"\", x))\n",
    "#Merging with Original DF\n",
    "df_naive_bayes = pd.concat([df_integers_a['TONE'],dfa], axis =1)\n",
    "#Regex to remove all other characters except Alphabets\n",
    "dfb = df_naive_bayes['COMMENT'].apply(lambda x: re.sub ('[^A-Za-z\\s]+', '', x))\n",
    "df_final = pd.concat ([df_integers_a['TONE'],dfb], axis =1)\n",
    "stop = stopwords.words('english')\n",
    "df_stopwords_removed = df_final['COMMENT'].apply(lambda  x: ' '.join([word for word in x.split() if word not in (stop)]))\n",
    "df_final = pd.concat ([df_integers_a['TONE'],df_stopwords_removed], axis =1)"
   ]
  },
  {
   "cell_type": "code",
   "execution_count": 13,
   "metadata": {
    "collapsed": true
   },
   "outputs": [],
   "source": [
    "#Applying Naive Bayes\n",
    "X_train1 = df_final['COMMENT']\n",
    "Y_train1 = df_final['TONE']"
   ]
  },
  {
   "cell_type": "code",
   "execution_count": 16,
   "metadata": {},
   "outputs": [
    {
     "name": "stdout",
     "output_type": "stream",
     "text": [
      "(157,)\n",
      "(53,)\n",
      "(157,)\n",
      "(53,)\n"
     ]
    }
   ],
   "source": [
    "from sklearn.feature_extraction.text import CountVectorizer,TfidfVectorizer\n",
    "from sklearn.naive_bayes import MultinomialNB\n",
    "from sklearn.cross_validation import train_test_split\n",
    "X_train, X_test, y_train, y_test = train_test_split(X_train1, Y_train1, random_state=1)\n",
    "vectorizer = CountVectorizer()\n",
    "vector = vectorizer.fit_transform(X_train)\n",
    "vector_test = vectorizer.transform(X_test)\n",
    "nb = MultinomialNB()\n",
    "nb.fit(vector,y_train)\n",
    "print(X_train.shape)\n",
    "print(X_test.shape)\n",
    "print(y_train.shape)\n",
    "print(y_test.shape)"
   ]
  },
  {
   "cell_type": "code",
   "execution_count": 17,
   "metadata": {
    "collapsed": true
   },
   "outputs": [],
   "source": [
    "y_pred_class = nb.predict(vector_test)"
   ]
  },
  {
   "cell_type": "code",
   "execution_count": 18,
   "metadata": {},
   "outputs": [
    {
     "data": {
      "text/plain": [
       "0.75471698113207553"
      ]
     },
     "execution_count": 18,
     "metadata": {},
     "output_type": "execute_result"
    }
   ],
   "source": [
    "from sklearn import metrics\n",
    "metrics.accuracy_score(y_test, y_pred_class)"
   ]
  },
  {
   "cell_type": "code",
   "execution_count": 20,
   "metadata": {},
   "outputs": [
    {
     "name": "stdout",
     "output_type": "stream",
     "text": [
      "0    39\n",
      "1    14\n",
      "Name: TONE, dtype: int64\n"
     ]
    },
    {
     "ename": "AttributeError",
     "evalue": "'NoneType' object has no attribute 'head'",
     "output_type": "error",
     "traceback": [
      "\u001b[1;31m---------------------------------------------------------------------------\u001b[0m",
      "\u001b[1;31mAttributeError\u001b[0m                            Traceback (most recent call last)",
      "\u001b[1;32m<ipython-input-20-53c6d0528635>\u001b[0m in \u001b[0;36m<module>\u001b[1;34m()\u001b[0m\n\u001b[1;32m----> 1\u001b[1;33m \u001b[0mprint\u001b[0m\u001b[1;33m(\u001b[0m\u001b[0my_test\u001b[0m\u001b[1;33m.\u001b[0m\u001b[0mvalue_counts\u001b[0m\u001b[1;33m(\u001b[0m\u001b[1;33m)\u001b[0m\u001b[1;33m)\u001b[0m\u001b[1;33m.\u001b[0m\u001b[0mhead\u001b[0m\u001b[1;33m(\u001b[0m\u001b[1;36m1\u001b[0m\u001b[1;33m)\u001b[0m\u001b[1;33m\u001b[0m\u001b[0m\n\u001b[0m",
      "\u001b[1;31mAttributeError\u001b[0m: 'NoneType' object has no attribute 'head'"
     ]
    }
   ],
   "source": [
    "print(y_test.value_counts())"
   ]
  },
  {
   "cell_type": "code",
   "execution_count": 22,
   "metadata": {},
   "outputs": [
    {
     "data": {
      "text/plain": [
       "0    0.735849\n",
       "Name: TONE, dtype: float64"
      ]
     },
     "execution_count": 22,
     "metadata": {},
     "output_type": "execute_result"
    }
   ],
   "source": [
    "#Null Accuracy\n",
    "y_test.value_counts().head(1)/len(y_test)"
   ]
  },
  {
   "cell_type": "code",
   "execution_count": 23,
   "metadata": {},
   "outputs": [
    {
     "data": {
      "text/plain": [
       "array([[38,  1],\n",
       "       [12,  2]], dtype=int64)"
      ]
     },
     "execution_count": 23,
     "metadata": {},
     "output_type": "execute_result"
    }
   ],
   "source": [
    "metrics.confusion_matrix(y_test,y_pred_class)"
   ]
  },
  {
   "cell_type": "code",
   "execution_count": 26,
   "metadata": {},
   "outputs": [
    {
     "data": {
      "text/plain": [
       "394    crap post Junk offered\n",
       "Name: COMMENT, dtype: object"
      ]
     },
     "execution_count": 26,
     "metadata": {},
     "output_type": "execute_result"
    }
   ],
   "source": [
    "\n",
    "X_test[y_pred_class > y_test]\n",
    "X_test[(y_pred_class==1) & (y_test==0)]"
   ]
  },
  {
   "cell_type": "code",
   "execution_count": 27,
   "metadata": {},
   "outputs": [
    {
     "data": {
      "text/plain": [
       "14     Ive literally heard no one talking about this ...\n",
       "146    Hi there LOVE what you guys did with the iPhon...\n",
       "133    My son inherited his grandfathers truck Thanks...\n",
       "148         Works greati can track my  year old all over\n",
       "148    Awesome app and services My mom has a jeep che...\n",
       "401    Who knew My family ad I have this app and I ha...\n",
       "92                                    Its a good product\n",
       "235    This is a TERRIFIC addition for your car I lov...\n",
       "193          No worries thank you Henry Have a great day\n",
       "446    I believe thay hum is the best thing dor peopl...\n",
       "203    Re Superbowl The girl in the middle is great a...\n",
       "186                       I have on my Acura TLits great\n",
       "Name: COMMENT, dtype: object"
      ]
     },
     "execution_count": 27,
     "metadata": {},
     "output_type": "execute_result"
    }
   ],
   "source": [
    "X_test[y_pred_class < y_test]\n",
    "X_test[(y_pred_class==0) & (y_test==1)]"
   ]
  },
  {
   "cell_type": "code",
   "execution_count": 28,
   "metadata": {},
   "outputs": [
    {
     "data": {
      "text/plain": [
       "'crap post Junk offered'"
      ]
     },
     "execution_count": 28,
     "metadata": {},
     "output_type": "execute_result"
    }
   ],
   "source": [
    "X_test[394]"
   ]
  },
  {
   "cell_type": "code",
   "execution_count": 35,
   "metadata": {},
   "outputs": [
    {
     "data": {
      "text/plain": [
       "0.79120879120879117"
      ]
     },
     "execution_count": 35,
     "metadata": {},
     "output_type": "execute_result"
    }
   ],
   "source": [
    "y_pred_prob = nb.predict_proba(vector_test)[:, 1]\n",
    "y_pred_prob\n",
    "\n",
    "metrics.roc_auc_score(y_test, y_pred_prob)\n"
   ]
  },
  {
   "cell_type": "code",
   "execution_count": null,
   "metadata": {
    "collapsed": true
   },
   "outputs": [],
   "source": []
  }
 ],
 "metadata": {
  "kernelspec": {
   "display_name": "Python 3",
   "language": "python",
   "name": "python3"
  },
  "language_info": {
   "codemirror_mode": {
    "name": "ipython",
    "version": 3
   },
   "file_extension": ".py",
   "mimetype": "text/x-python",
   "name": "python",
   "nbconvert_exporter": "python",
   "pygments_lexer": "ipython3",
   "version": "3.6.3"
  }
 },
 "nbformat": 4,
 "nbformat_minor": 2
}
